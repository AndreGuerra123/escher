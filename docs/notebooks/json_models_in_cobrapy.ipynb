{
 "metadata": {
  "name": "",
  "signature": "sha256:2484aebaf11aa7931c373a3b18c87fdcf0240bf7f37ee86497f5c43da476a2ab"
 },
 "nbformat": 3,
 "nbformat_minor": 0,
 "worksheets": [
  {
   "cells": [
    {
     "cell_type": "code",
     "collapsed": false,
     "input": [
      "import cobra\n",
      "import cobra.io"
     ],
     "language": "python",
     "metadata": {},
     "outputs": [
      {
       "output_type": "stream",
       "stream": "stderr",
       "text": [
        "cobra/solvers/__init__.py:63 \u001b[1;31mUserWarning\u001b[0m: No LP solvers found\n",
        "cobra/core/__init__.py:20 \u001b[1;31mUserWarning\u001b[0m: ArrayBasedModel requires scipy\n",
        "cobra/io/__init__.py:23 \u001b[1;31mUserWarning\u001b[0m: cobra.io.mat requires scipy\n"
       ]
      },
      {
       "output_type": "stream",
       "stream": "stdout",
       "text": [
        "numpy.ufunc has the wrong size, try recompiling\n"
       ]
      },
      {
       "output_type": "stream",
       "stream": "stderr",
       "text": [
        "cobra/flux_analysis/essentiality.py:18 \u001b[1;31mUserWarning\u001b[0m: moma does not appear to be functional on your system\n"
       ]
      }
     ],
     "prompt_number": 1
    },
    {
     "cell_type": "code",
     "collapsed": false,
     "input": [
      "print cobra.__version__"
     ],
     "language": "python",
     "metadata": {},
     "outputs": [
      {
       "output_type": "stream",
       "stream": "stdout",
       "text": [
        "0.3.0b3\n"
       ]
      }
     ],
     "prompt_number": 2
    },
    {
     "cell_type": "code",
     "collapsed": false,
     "input": [
      "# Load a cobra model from anywhere you like\n",
      "model = cobra.io.read_sbml_model('e-coli-core.xml')"
     ],
     "language": "python",
     "metadata": {},
     "outputs": [],
     "prompt_number": 3
    },
    {
     "cell_type": "code",
     "collapsed": false,
     "input": [
      "# generate a json file to load into Escher\n",
      "cobra.io.save_json_model(model, 'e-coli-core.json')"
     ],
     "language": "python",
     "metadata": {},
     "outputs": [],
     "prompt_number": 4
    },
    {
     "cell_type": "code",
     "collapsed": false,
     "input": [],
     "language": "python",
     "metadata": {},
     "outputs": []
    }
   ],
   "metadata": {}
  }
 ]
}